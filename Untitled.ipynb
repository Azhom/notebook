{
 "cells": [
  {
   "cell_type": "code",
   "execution_count": 1,
   "metadata": {},
   "outputs": [],
   "source": [
    "import numpy as np\n",
    "import matplotlib.pyplot as plt\n",
    "import time as tm\n",
    "import sys"
   ]
  },
  {
   "cell_type": "code",
   "execution_count": 2,
   "metadata": {},
   "outputs": [],
   "source": [
    "time = 2. #(s)\n",
    "nb_steps = 1000\n",
    "nb_neurons = 1000.\n",
    "h = time/nb_steps #0.001\n",
    "ext_poisson_rate = 3. #Poisson rate (Hz)\n",
    "nb_neuron_ext = 800\n",
    "V_L = -70. #rest potential\n",
    "V_E = 0. #reversal potential\n",
    "V_I = -70.\n",
    "V_thr = -50.\n",
    "V_reset = -55.\n",
    "g_AMPA_ext = 2.08e-9 #synaptic excitatory conductance\n",
    "g_AMPA_rec = 104.0e-9/nb_neurons\n",
    "g_NMDA = 258.0e-9/nb_neurons\n",
    "g_GABA = 1250.0e-9/nb_neurons\n",
    "g_m = 25.0e-9 #membrane conductance\n",
    "C_m = 0.5e-9 #membrane capacitance\n",
    "ig_AMPA_ext = 1.62e-9 #synaptic excitatory conductance\n",
    "ig_AMPA_rec = 81.0e-9/nb_neurons\n",
    "ig_NMDA = 258.0e-9/nb_neurons\n",
    "ig_GABA = 973.0e-9/nb_neurons\n",
    "ig_m = 20.0e-9 #membrane conductance\n",
    "iC_m = 0.2e-9 #membrane capacitance\n",
    "alpha = 0.5/0.001\n",
    "tau_AMPA = 0.002 #\n",
    "tau_NMDA_up = 0.002\n",
    "tau_NMDA_down = 0.1\n",
    "tau_GABA = 0.005\n",
    "gamma = 1.0/3.57\n",
    "beta = 0.062\n",
    "tau_rp = 0.002\n",
    "itau_rp = 0.001\n",
    "fraction = 0.15\n",
    "w = 1.0\n",
    "w_plus = 1.7\n",
    "w_minus = 1 - fraction * (w_plus - 1) / (1 - fraction)"
   ]
  },
  {
   "cell_type": "code",
   "execution_count": 3,
   "metadata": {},
   "outputs": [],
   "source": [
    "amp_GABA_A = 0.\n",
    "amp_AMPA_A = 0.\n",
    "amp_NMDA_A = 0.\n",
    "amp_GABA_B = 0.\n",
    "amp_AMPA_B = 0.\n",
    "amp_NMDA_B = 0.\n",
    "amp_GABA_EI = 0.\n",
    "amp_AMPA_EI = 0.\n",
    "amp_NMDA_EI = 0.\n",
    "\n",
    "counter_A = []\n",
    "counter_B = []\n",
    "\n",
    "stimuli = 0.\n",
    "totNMDA_A = 0.\n",
    "totGABA_A = 0.\n",
    "totAMPA_A = 0.\n",
    "    \n",
    "totNMDA_B = 0.\n",
    "totGABA_B = 0.\n",
    "totAMPA_B = 0.\n",
    "\n",
    "totNMDA_EI = 0.\n",
    "totGABA_EI = 0.\n",
    "totAMPA_EI = 0.\n"
   ]
  },
  {
   "cell_type": "code",
   "execution_count": 4,
   "metadata": {},
   "outputs": [],
   "source": [
    "class Neuron:\n",
    "    instances = []\n",
    "    def __init__(self):\n",
    "        Neuron.instances.append(self)\n",
    "        self.V = V_L\n",
    "        self.refractory_time = False\n",
    "        self.start_refractory_time = -100.\n",
    "        self.s_AMPA = 0.\n",
    "        self.s_NMDA = 0.\n",
    "        self.s_GABA = 0.\n",
    "        self.x = 0.\n",
    "        self.send_spike = False\n",
    "                \n",
    "    def update_AMPA(self, h):\n",
    "        if self.send_spike == True:\n",
    "            self.s_AMPA = 1.0\n",
    "            self.x = 1.0\n",
    "            self.s_NMDA += (-(self.s_NMDA / tau_NMDA_down) + alpha * self.x * (1 - self.s_NMDA)) * h\n",
    "            self.s_GABA = 1.0\n",
    "            self.send_spike = False\n",
    "        else:\n",
    "            self.s_AMPA += - (self.s_AMPA / tau_AMPA) * h\n",
    "            self.x += -(self.x/tau_NMDA_up) * h\n",
    "            self.s_NMDA += (-(self.s_NMDA / tau_NMDA_down) + alpha * self.x * (1 - self.s_NMDA)) * h\n",
    "            self.s_GABA += (-self.s_GABA / tau_GABA ) * h\n",
    " \n",
    "class NeuronE(Neuron):\n",
    "    instances = []\n",
    "    def __init__(self):\n",
    "        Neuron.__init__(self)\n",
    "        NeuronE.instances.append(self)\n",
    "        \n",
    "    def update_V(self, h, current_t):\n",
    "        if np.abs(current_t - self.start_refractory_time) < tau_rp:\n",
    "            self.V = V_reset\n",
    "        else:\n",
    "            ext_amp = np.random.poisson(ext_poisson_rate*nb_neuron_ext*tau_AMPA,1)\n",
    "            \n",
    "            \"\"\"amp_NMDA = amp_NMDA_A - self.s_NMDA + amp_NMDA_B + amp_NMDA_EI\n",
    "            amp_GABA = amp_GABA_A - self.s_GABA + amp_GABA_B + amp_GABA_EI\n",
    "            amp_AMPA = amp_AMPA_A - self.s_AMPA + amp_AMPA_B + amp_AMPA_EI\"\"\"\n",
    "            \n",
    "            I_NMDA = g_NMDA * (self.V - V_I)/(1 + gamma * np.exp(-beta*self.V)) * (totNMDA_EI - self.s_NMDA)\n",
    "            I_GABA = g_GABA * (self.V - V_I) * (totGABA_EI - self.s_GABA)\n",
    "            I_AMPA_rec = g_AMPA_rec * (self.V - V_E) * (totAMPA_EI - self.s_AMPA)\n",
    "            I_AMPA_ext = g_AMPA_ext * (self.V - V_E) * ext_amp\n",
    "            I_syn = I_AMPA_ext + I_GABA + I_AMPA_rec + I_NMDA\n",
    "            self.V += (- g_m * (self.V - V_L) - I_syn) * h / C_m\n",
    "            if self.V > V_thr:\n",
    "                self.start_refractory_time = current_t\n",
    "                self.V = V_reset\n",
    "                self.send_spike = True\n",
    "\n",
    "\n",
    "class NeuronA(Neuron):\n",
    "    instances= []\n",
    "    def __init__(self):\n",
    "        Neuron.__init__(self)\n",
    "        NeuronA.instances.append(self)\n",
    "        \n",
    "    def update_V(self, h, current_t):\n",
    "        if np.abs(current_t - self.start_refractory_time) < tau_rp:\n",
    "            self.V = V_reset\n",
    "        else:\n",
    "            ext_amp = np.random.poisson((ext_poisson_rate*nb_neuron_ext+stimuli)*tau_AMPA,1)\n",
    "            \"\"\"amp_NMDA = (amp_NMDA_A - self.s_NMDA) * w_plus + amp_NMDA_B * w_minus + amp_NMDA_EI\n",
    "            amp_GABA = (amp_GABA_A - self.s_GABA) * w_plus + amp_GABA_B * w_minus + amp_GABA_EI\n",
    "            amp_AMPA = (amp_AMPA_A - self.s_AMPA) * w_plus + amp_AMPA_B * w_minus + amp_AMPA_EI\n",
    "            \"\"\"\n",
    "            I_NMDA = g_NMDA * (self.V - V_I)/(1 + gamma * np.exp(-beta*self.V)) * (totNMDA_A - self.s_NMDA)\n",
    "            I_GABA = g_GABA * (self.V - V_I) * (totGABA_A - self.s_GABA)\n",
    "            I_AMPA_rec = g_AMPA_rec * (self.V - V_E) * (totAMPA_A - self.s_AMPA)\n",
    "            I_AMPA_ext = g_AMPA_ext * (self.V - V_E) * ext_amp\n",
    "            I_syn = I_AMPA_ext + I_GABA + I_AMPA_rec + I_NMDA\n",
    "            self.V += (- g_m * (self.V - V_L) - I_syn) * h / C_m\n",
    "            if self.V > V_thr:\n",
    "                self.start_refractory_time = current_t\n",
    "                self.V = V_reset\n",
    "                counter_A.append(current_t)\n",
    "                self.send_spike = True\n",
    "                \n",
    "\n",
    "class NeuronB(Neuron):\n",
    "    instances= []\n",
    "    def __init__(self):\n",
    "        Neuron.__init__(self)\n",
    "        NeuronB.instances.append(self)\n",
    "        \n",
    "    def update_V(self, h, current_t):\n",
    "        if np.abs(current_t - self.start_refractory_time) < tau_rp:\n",
    "            self.V = V_reset\n",
    "        else:\n",
    "            ext_amp = np.random.poisson((ext_poisson_rate*nb_neuron_ext+stimuli)*tau_AMPA,1)\n",
    "            \n",
    "            \"\"\"amp_NMDA = (amp_NMDA_B - self.s_NMDA) * w_plus + amp_NMDA_A * w_minus + amp_NMDA_EI\n",
    "            amp_GABA = (amp_GABA_B - self.s_GABA) * w_plus + amp_GABA_A * w_minus + amp_GABA_EI\n",
    "            amp_AMPA = (amp_AMPA_B - self.s_AMPA) * w_plus + amp_AMPA_A * w_minus + amp_AMPA_EI\"\"\"\n",
    "            \n",
    "            I_NMDA = g_NMDA * (self.V - V_I)/(1 + gamma * np.exp(-beta*self.V)) * (totNMDA_B - self.s_NMDA)\n",
    "            I_GABA = g_GABA * (self.V - V_I) * (totGABA_B - self.s_GABA)\n",
    "            I_AMPA_rec = g_AMPA_rec * (self.V - V_E) * (totAMPA_B - self.s_AMPA)\n",
    "            I_AMPA_ext = g_AMPA_ext * (self.V - V_E) * ext_amp\n",
    "            I_syn = I_AMPA_ext + I_GABA + I_AMPA_rec + I_NMDA\n",
    "            self.V += (- g_m * (self.V - V_L) - I_syn) * h / C_m\n",
    "            if self.V > V_thr:\n",
    "                self.start_refractory_time = current_t\n",
    "                self.V = V_reset\n",
    "                counter_B.append(current_t)\n",
    "                self.send_spike = True\n",
    "    \n",
    "                \n",
    "class NeuronI(Neuron):\n",
    "    instances = []\n",
    "    \n",
    "    def __init__(self):\n",
    "        Neuron.__init__(self)\n",
    "        NeuronI.instances.append(self)\n",
    "        \n",
    "    def update_V(self, h, current_t):\n",
    "        if np.abs(current_t - self.start_refractory_time) < itau_rp:\n",
    "            self.V = V_reset\n",
    "        else:\n",
    "            ext_amp = np.random.poisson(ext_poisson_rate*nb_neuron_ext*tau_AMPA,1)\n",
    "            \n",
    "            \"\"\"amp_NMDA = amp_NMDA_A - self.s_NMDA + amp_NMDA_B + amp_NMDA_EI\n",
    "            amp_GABA = amp_GABA_A - self.s_GABA + amp_GABA_B + amp_GABA_EI\n",
    "            amp_AMPA = amp_AMPA_A - self.s_AMPA + amp_AMPA_B + amp_AMPA_EI\"\"\"\n",
    "            \n",
    "            I_NMDA = ig_NMDA * (self.V - V_I)/(1 + gamma * np.exp(-beta*self.V)) * (totNMDA_EI - self.s_NMDA) \n",
    "            I_GABA = ig_GABA * (self.V - V_I) * (totGABA_EI - self.s_GABA)\n",
    "            I_AMPA_rec = ig_AMPA_rec * (self.V - V_E) * (totAMPA_EI - self.s_AMPA)\n",
    "            I_AMPA_ext = ig_AMPA_ext * (self.V - V_E) * ext_amp\n",
    "            I_syn = I_AMPA_ext + I_GABA + I_AMPA_rec + I_NMDA\n",
    "            self.V += (- ig_m * (self.V - V_L) - I_syn) * h / iC_m\n",
    "            if self.V > V_thr:\n",
    "                self.start_refractory_time = current_t\n",
    "                self.V = V_reset\n",
    "                self.send_spike = True"
   ]
  },
  {
   "cell_type": "code",
   "execution_count": 5,
   "metadata": {},
   "outputs": [],
   "source": [
    "ie_ratio = 0.2\n",
    "for i in range(int(ie_ratio*nb_neurons)):\n",
    "    NeuronI()\n",
    "for i in range(int((1-ie_ratio)*(1-2*fraction)*nb_neurons)):\n",
    "    NeuronE()\n",
    "for i in range(int((1-ie_ratio)*fraction*nb_neurons)):\n",
    "    NeuronA()\n",
    "for i in range(int((1-ie_ratio)*fraction*nb_neurons)):\n",
    "    NeuronB()"
   ]
  },
  {
   "cell_type": "code",
   "execution_count": 6,
   "metadata": {
    "scrolled": true
   },
   "outputs": [
    {
     "name": "stdout",
     "output_type": "stream",
     "text": [
      "[==========] 99.9 % - ETA : 0.0 ss\n",
      "60.62101197242737\n"
     ]
    },
    {
     "data": {
      "text/plain": [
       "(array([5., 4., 5., 3., 4., 3., 3., 3., 6., 4., 7., 4., 3., 4., 7., 2., 4.,\n",
       "        3., 4., 2., 7., 5., 7., 8., 8., 5., 2., 4., 5., 3.]),\n",
       " array([0.04      , 0.10526667, 0.17053333, 0.2358    , 0.30106667,\n",
       "        0.36633333, 0.4316    , 0.49686667, 0.56213333, 0.6274    ,\n",
       "        0.69266667, 0.75793333, 0.8232    , 0.88846667, 0.95373333,\n",
       "        1.019     , 1.08426667, 1.14953333, 1.2148    , 1.28006667,\n",
       "        1.34533333, 1.4106    , 1.47586667, 1.54113333, 1.6064    ,\n",
       "        1.67166667, 1.73693333, 1.8022    , 1.86746667, 1.93273333,\n",
       "        1.998     ]),\n",
       " <a list of 30 Patch objects>)"
      ]
     },
     "execution_count": 6,
     "metadata": {},
     "output_type": "execute_result"
    },
    {
     "data": {
      "image/png": "[encoded data removed]",
      "text/plain": [
       "<matplotlib.figure.Figure at 0xc425350>"
      ]
     },
     "metadata": {},
     "output_type": "display_data"
    }
   ],
   "source": [
    "V_test = []\n",
    "V_test1 = []\n",
    "start = tm.time()\n",
    "for t in range(int(time/h)):\n",
    "    top = tm.time()\n",
    "    if t!=0:\n",
    "        sys.stdout.write(\"\\r[\"+int(np.round(t*h/time*10.))*\"=\"+int(np.round((1-t*h/time)*10.))*\" \"+\"] \"+str(np.round(t*h/time*100,2))+\" % - ETA : \"+str(np.round((top-start)/(t*h/time)-(top-start))) + \" s\")\n",
    "    amp_GABA_A = 0.\n",
    "    amp_AMPA_A = 0.\n",
    "    amp_NMDA_A = 0.\n",
    "    amp_GABA_B = 0.\n",
    "    amp_AMPA_B = 0.\n",
    "    amp_NMDA_B = 0.\n",
    "    amp_GABA_EI = 0.\n",
    "    amp_AMPA_EI = 0.\n",
    "    amp_NMDA_EI = 0.\n",
    "    \n",
    "    if t*h > 0.5:\n",
    "        stimuli = 50.\n",
    "    \n",
    "    for n in (NeuronE.instances + NeuronI.instances):\n",
    "        n.update_AMPA(h)\n",
    "        amp_GABA_EI += n.s_GABA\n",
    "        amp_AMPA_EI += n.s_AMPA\n",
    "        amp_NMDA_EI += n.s_NMDA\n",
    "    \n",
    "    for n in NeuronA.instances:\n",
    "        n.update_AMPA(h)\n",
    "        amp_GABA_A += n.s_GABA\n",
    "        amp_AMPA_A += n.s_AMPA\n",
    "        amp_NMDA_A += n.s_NMDA\n",
    "        \n",
    "    for n in NeuronB.instances:\n",
    "        n.update_AMPA(h)\n",
    "        amp_GABA_B += n.s_GABA\n",
    "        amp_AMPA_B += n.s_AMPA\n",
    "        amp_NMDA_B += n.s_NMDA\n",
    "    \n",
    "    totNMDA_A = amp_NMDA_A * w_plus + amp_NMDA_B * w_minus + amp_NMDA_EI\n",
    "    totGABA_A = amp_GABA_A * w_plus + amp_GABA_B * w_minus + amp_GABA_EI\n",
    "    totAMPA_A = amp_AMPA_A * w_plus + amp_AMPA_B * w_minus + amp_AMPA_EI\n",
    "    \n",
    "    totNMDA_B = amp_NMDA_B * w_plus + amp_NMDA_A * w_minus + amp_NMDA_EI\n",
    "    totGABA_B = amp_GABA_B * w_plus + amp_GABA_A * w_minus + amp_GABA_EI\n",
    "    totAMPA_B = amp_AMPA_B * w_plus + amp_AMPA_A * w_minus + amp_AMPA_EI\n",
    "\n",
    "    totNMDA_EI = amp_NMDA_A + amp_NMDA_B + amp_NMDA_EI\n",
    "    totGABA_EI = amp_GABA_A + amp_GABA_B + amp_GABA_EI\n",
    "    totAMPA_EI = amp_AMPA_A + amp_AMPA_B + amp_AMPA_EI\n",
    "\n",
    "                         \n",
    "    for n in Neuron.instances:\n",
    "        n.update_V(h, t*h)    \n",
    "\n",
    "    V_test.append(Neuron.instances[-1].s_NMDA*1.)\n",
    "    V_test1.append(Neuron.instances[-1].V*1.)\n",
    "end = tm.time()\n",
    "print('')\n",
    "print(end-start)\n",
    "plt.hist(counter_A,30)\n",
    "plt.hist(counter_B,30,alpha=0.7)"
   ]
  },
  {
   "cell_type": "code",
   "execution_count": 7,
   "metadata": {
    "scrolled": true
   },
   "outputs": [
    {
     "data": {
      "text/plain": [
       "[<matplotlib.lines.Line2D at 0xd9bf4d0>]"
      ]
     },
     "execution_count": 7,
     "metadata": {},
     "output_type": "execute_result"
    },
    {
     "data": {
      "image/png": "[encoded data removed]",
      "text/plain": [
       "<matplotlib.figure.Figure at 0x4d78450>"
      ]
     },
     "metadata": {},
     "output_type": "display_data"
    }
   ],
   "source": [
    "plt.plot(V_test1)"
   ]
  },
  {
   "cell_type": "markdown",
   "metadata": {},
   "source": [
    " "
   ]
  },
  {
   "cell_type": "code",
   "execution_count": 8,
   "metadata": {},
   "outputs": [
    {
     "data": {
      "text/plain": [
       "(array([4., 0., 0., 2., 1., 1., 2., 2., 2., 0., 2., 0., 1., 2., 1., 1., 0.,\n",
       "        2., 0., 1., 1., 1., 0., 1., 1., 0., 3., 1., 2., 2., 1., 1., 2., 3.,\n",
       "        1., 1., 2., 1., 2., 1., 0., 1., 1., 3., 1., 1., 1., 1., 3., 2., 0.,\n",
       "        1., 1., 0., 2., 2., 0., 2., 1., 0., 1., 1., 2., 0., 1., 0., 2., 3.,\n",
       "        0., 3., 0., 2., 2., 4., 2., 2., 1., 3., 2., 2., 1., 1., 5., 1., 3.,\n",
       "        2., 0., 0., 1., 1., 2., 1., 0., 4., 1., 1., 0., 0., 2., 1.]),\n",
       " array([0.04   , 0.05958, 0.07916, 0.09874, 0.11832, 0.1379 , 0.15748,\n",
       "        0.17706, 0.19664, 0.21622, 0.2358 , 0.25538, 0.27496, 0.29454,\n",
       "        0.31412, 0.3337 , 0.35328, 0.37286, 0.39244, 0.41202, 0.4316 ,\n",
       "        0.45118, 0.47076, 0.49034, 0.50992, 0.5295 , 0.54908, 0.56866,\n",
       "        0.58824, 0.60782, 0.6274 , 0.64698, 0.66656, 0.68614, 0.70572,\n",
       "        0.7253 , 0.74488, 0.76446, 0.78404, 0.80362, 0.8232 , 0.84278,\n",
       "        0.86236, 0.88194, 0.90152, 0.9211 , 0.94068, 0.96026, 0.97984,\n",
       "        0.99942, 1.019  , 1.03858, 1.05816, 1.07774, 1.09732, 1.1169 ,\n",
       "        1.13648, 1.15606, 1.17564, 1.19522, 1.2148 , 1.23438, 1.25396,\n",
       "        1.27354, 1.29312, 1.3127 , 1.33228, 1.35186, 1.37144, 1.39102,\n",
       "        1.4106 , 1.43018, 1.44976, 1.46934, 1.48892, 1.5085 , 1.52808,\n",
       "        1.54766, 1.56724, 1.58682, 1.6064 , 1.62598, 1.64556, 1.66514,\n",
       "        1.68472, 1.7043 , 1.72388, 1.74346, 1.76304, 1.78262, 1.8022 ,\n",
       "        1.82178, 1.84136, 1.86094, 1.88052, 1.9001 , 1.91968, 1.93926,\n",
       "        1.95884, 1.97842, 1.998  ]),\n",
       " <a list of 100 Patch objects>)"
      ]
     },
     "execution_count": 8,
     "metadata": {},
     "output_type": "execute_result"
    },
    {
     "data": {
      "image/png": "[encoded data removed]",
      "text/plain": [
       "<matplotlib.figure.Figure at 0xc407d50>"
      ]
     },
     "metadata": {},
     "output_type": "display_data"
    }
   ],
   "source": [
    "plt.hist(counter_A,100)\n",
    "plt.hist(counter_B,100,alpha=0.7)"
   ]
  },
  {
   "cell_type": "code",
   "execution_count": 9,
   "metadata": {},
   "outputs": [
    {
     "data": {
      "text/plain": [
       "[<matplotlib.lines.Line2D at 0xeb1fe30>]"
      ]
     },
     "execution_count": 9,
     "metadata": {},
     "output_type": "execute_result"
    },
    {
     "data": {
      "image/png": "[encoded data removed]",
      "text/plain": [
       "<matplotlib.figure.Figure at 0x7879f50>"
      ]
     },
     "metadata": {},
     "output_type": "display_data"
    }
   ],
   "source": [
    "def count_rate(counter, shift_time=0.005, integration_time=0.05):\n",
    "    rate_list = []\n",
    "    temp = np.array(counter)\n",
    "    for t in range(int((time-integration_time)/shift_time)):\n",
    "        spike_count = len(temp[(temp > t*shift_time) & (temp < t*shift_time+integration_time)])\n",
    "        rate_list.append(spike_count/integration_time/((1-ie_ratio)*fraction*nb_neurons))\n",
    "    return rate_list\n",
    "\n",
    "plt.plot(count_rate(counter_A, 0.005, 0.05))\n",
    "plt.plot(count_rate(counter_B, 0.005, 0.05))"
   ]
  },
  {
   "cell_type": "code",
   "execution_count": 10,
   "metadata": {},
   "outputs": [
    {
     "name": "stdout",
     "output_type": "stream",
     "text": [
      "559\n",
      "200\n",
      "120\n",
      "120\n",
      "999\n"
     ]
    }
   ],
   "source": [
    "print(len(NeuronE.instances))\n",
    "print(len(NeuronI.instances))\n",
    "print(len(NeuronA.instances))\n",
    "print(len(NeuronB.instances))\n",
    "print(len(Neuron.instances))"
   ]
  },
  {
   "cell_type": "raw",
   "metadata": {},
   "source": [
    "1000, 100, 6.228663444519043\n",
    "1000, 200, 12.651653051376343\n",
    "5000, 200, 66.54592943191528\n",
    "5000, 2000, 648.3295187950134"
   ]
  }
 ],
 "metadata": {
  "kernelspec": {
   "display_name": "Python 3",
   "language": "python",
   "name": "python3"
  },
  "language_info": {
   "codemirror_mode": {
    "name": "ipython",
    "version": 3
   },
   "file_extension": ".py",
   "mimetype": "text/x-python",
   "name": "python",
   "nbconvert_exporter": "python",
   "pygments_lexer": "ipython3",
   "version": "3.6.4"
  }
 },
 "nbformat": 4,
 "nbformat_minor": 2
}
