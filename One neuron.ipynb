{
 "cells": [
  {
   "cell_type": "code",
   "execution_count": 161,
   "metadata": {},
   "outputs": [],
   "source": [
    "import numpy as np\n",
    "import matplotlib.pyplot as plt"
   ]
  },
  {
   "cell_type": "code",
   "execution_count": 201,
   "metadata": {},
   "outputs": [],
   "source": [
    "time = 1.\n",
    "h = 0.001\n",
    "ext_poisson_rate = 2400.*h/time\n",
    "nb_neuron_ext = 800\n",
    "sj_list = np.zeros(nb_neuron_ext)\n",
    "sj_dot_list = np.zeros(nb_neuron_ext)\n",
    "tau_AMPA = 0.002\n",
    "\n",
    "def sj_dot(sj, poisson):\n",
    "    return -sj/tau_AMPA + poisson"
   ]
  },
  {
   "cell_type": "code",
   "execution_count": 226,
   "metadata": {},
   "outputs": [],
   "source": [
    "V_L = -0.07    #V\n",
    "V_E = 0.0\n",
    "g_AMPA_ext = 0.1\n",
    "g_m = 1.\n",
    "\n",
    "def V_dot(V, I_syn):\n",
    "    return -g_m * (V - V_L) - I_syn\n"
   ]
  },
  {
   "cell_type": "code",
   "execution_count": 227,
   "metadata": {},
   "outputs": [],
   "source": [
    "s_test = []\n",
    "V = V_L\n",
    "V_test = [V]\n",
    "for step in range(int(time/h)):\n",
    "    poisson = np.random.poisson(ext_poisson_rate, 800)\n",
    "    for index, s in enumerate(sj_list): \n",
    "        sj_list[index] += sj_dot(s, poisson[index]) * h\n",
    "    I_syn = g_AMPA_ext * (V - V_E) * sum(sj_list)\n",
    "    V += V_dot(V, I_syn)\n",
    "    s_test.append(sj_list[0])\n",
    "    V_test.append(V)"
   ]
  },
  {
   "cell_type": "code",
   "execution_count": 228,
   "metadata": {},
   "outputs": [
    {
     "data": {
      "text/plain": [
       "[<matplotlib.lines.Line2D at 0xef86470>]"
      ]
     },
     "execution_count": 228,
     "metadata": {},
     "output_type": "execute_result"
    },
    {
     "data": {
      "image/png": "[encoded data removed]",
      "text/plain": [
       "<matplotlib.figure.Figure at 0xef68630>"
      ]
     },
     "metadata": {},
     "output_type": "display_data"
    }
   ],
   "source": [
    "plt.plot(V_test)"
   ]
  },
  {
   "cell_type": "code",
   "execution_count": null,
   "metadata": {},
   "outputs": [],
   "source": []
  },
  {
   "cell_type": "code",
   "execution_count": null,
   "metadata": {},
   "outputs": [],
   "source": []
  }
 ],
 "metadata": {
  "kernelspec": {
   "display_name": "Python 3",
   "language": "python",
   "name": "python3"
  },
  "language_info": {
   "codemirror_mode": {
    "name": "ipython",
    "version": 3
   },
   "file_extension": ".py",
   "mimetype": "text/x-python",
   "name": "python",
   "nbconvert_exporter": "python",
   "pygments_lexer": "ipython3",
   "version": "3.6.4"
  }
 },
 "nbformat": 4,
 "nbformat_minor": 2
}
