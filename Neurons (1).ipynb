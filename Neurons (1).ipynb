{
 "cells": [
  {
   "cell_type": "code",
   "execution_count": 1,
   "metadata": {},
   "outputs": [],
   "source": [
    "import numpy as np\n",
    "import matplotlib.pyplot as plt"
   ]
  },
  {
   "cell_type": "code",
   "execution_count": 2,
   "metadata": {},
   "outputs": [],
   "source": [
    "time = 0.5 #(s)\n",
    "nb_steps = 5000\n",
    "nb_neurons = 10\n",
    "h = time/nb_steps #0.001\n",
    "ext_poisson_rate = 3. #Poisson rate (Hz)\n",
    "nb_neuron_ext = 800\n",
    "tau_AMPA = 0.002 #\n",
    "V_L = -0.07 #rest potential\n",
    "V_E = 0.0 #reversal potential\n",
    "V_I = -0.07\n",
    "V_thr = -0.05\n",
    "g_AMPA_ext = 2.08e-9 #synaptic excitatory conductance\n",
    "g_AMPA_rec = 104.0e-9/nb_neurons\n",
    "g_GABA = 1.\n",
    "g_m = 25.0e-9 #membrane conductance\n",
    "C_m = 0.5e-9 #membrane capacitance\n",
    "tau_rp = 0.002\n",
    "fraction = 0.15\n",
    "w = 1.0\n",
    "w_plus = 1.5\n",
    "w_minus = 1 - fraction * (w_plus - 1) / (1 - fraction)"
   ]
  },
  {
   "cell_type": "code",
   "execution_count": 3,
   "metadata": {},
   "outputs": [],
   "source": [
    "def sj_dot(sj, poisson):\n",
    "    return -sj/tau_AMPA #+ poisson"
   ]
  },
  {
   "cell_type": "code",
   "execution_count": 4,
   "metadata": {},
   "outputs": [],
   "source": [
    "class Neuron:\n",
    "    instances = []\n",
    "    def __init__(self):\n",
    "        Neuron.instances.append(self)\n",
    "        self.V = V_L\n",
    "        self.refractory_time = False\n",
    "        self.start_refractory_time = -100.\n",
    "        self.s_AMPA = 0.\n",
    "        self.send_pike = False\n",
    "                \n",
    "    def update_AMPA(self, h):\n",
    "        if self.send_pike == True:\n",
    "            self.s_AMPA = 1.0\n",
    "            self.send_pike = False\n",
    "        else:\n",
    "            self.s_AMPA += - (self.s_AMPA / tau_AMPA * h)\n",
    "\n",
    "\n",
    "class NeuronE(Neuron):\n",
    "    instances = []\n",
    "    def __init__(self):\n",
    "        Neuron.__init__(self)\n",
    "        NeuronE.instances.append(self)\n",
    "    \n",
    "    def update_V(self, h, ext_amp, rec_amp_A, rec_amp_B, rec_amp_E, current_t):\n",
    "        if np.abs(current_t - self.start_refractory_time) < tau_rp:\n",
    "            self.V = V_L\n",
    "        else:\n",
    "            rec_amp = rec_amp_A + rec_amp_B + rec_amp_E\n",
    "            I_AMPA_rec = g_AMPA_rec * (self.V - V_E) * rec_amp\n",
    "            I_AMPA_ext = g_AMPA_ext * (self.V - V_E) * ext_amp\n",
    "            I_syn = I_AMPA_ext + I_AMPA_rec\n",
    "            self.V += (- g_m * (self.V - V_L) - I_syn) * h / C_m\n",
    "            if self.V > V_thr:\n",
    "                self.start_refractory_time = current_t\n",
    "                self.send_pike = True\n",
    "\n",
    "                \n",
    "class NeuronA(Neuron):\n",
    "    instances = []\n",
    "    def __init__(self):\n",
    "        Neuron.__init__(self)\n",
    "        NeuronA.instances.append(self)\n",
    "    \n",
    "    def update_V(self, h, ext_amp, rec_amp_A, rec_amp_B, rec_amp_E, current_t):\n",
    "        if np.abs(current_t - self.start_refractory_time) < tau_rp:\n",
    "            self.V = V_L\n",
    "        else:\n",
    "            rec_amp = rec_amp_A*w_plus + rec_amp_B*w_minus + rec_amp_E\n",
    "            I_AMPA_rec = g_AMPA_rec * (self.V - V_E) * rec_amp\n",
    "            I_AMPA_ext = g_AMPA_ext * (self.V - V_E) * ext_amp\n",
    "            I_syn = I_AMPA_ext + I_AMPA_rec\n",
    "            self.V += (- g_m * (self.V - V_L) - I_syn) * h / C_m\n",
    "            if self.V > V_thr:\n",
    "                self.start_refractory_time = current_t\n",
    "                self.send_pike = True\n",
    "                \n",
    "                \n",
    "class NeuronB(Neuron):\n",
    "    instances = []\n",
    "    def __init__(self):\n",
    "        Neuron.__init__(self)\n",
    "        NeuronB.instances.append(self)\n",
    "    \n",
    "    def update_V(self, h, ext_amp, rec_amp_A, rec_amp_B, rec_amp_E, current_t):\n",
    "        if np.abs(current_t - self.start_refractory_time) < tau_rp:\n",
    "            self.V = V_L\n",
    "        else:\n",
    "            rec_amp = rec_amp_A*w_minus + rec_amp_B*w_plus + rec_amp_E\n",
    "            I_AMPA_rec = g_AMPA_rec * (self.V - V_E) * rec_amp\n",
    "            I_AMPA_ext = g_AMPA_ext * (self.V - V_E) * ext_amp\n",
    "            I_syn = I_AMPA_ext + I_AMPA_rec\n",
    "            self.V += (- g_m * (self.V - V_L) - I_syn) * h / C_m\n",
    "            if self.V > V_thr:\n",
    "                self.start_refractory_time = current_t\n",
    "                self.send_pike = True\n",
    "                \n",
    "class NeuronI():\n",
    "    instances = []\n",
    "    def __init__(self):\n",
    "        NeuronI.instances.append(self)\n",
    "        "
   ]
  },
  {
   "cell_type": "code",
   "execution_count": 5,
   "metadata": {
    "scrolled": false
   },
   "outputs": [],
   "source": [
    "for i in range(int(nb_neurons*(1-2*fraction))):\n",
    "    NeuronE()\n",
    "for i in range(int(nb_neurons*fraction)):\n",
    "    NeuronA()\n",
    "    NeuronB()"
   ]
  },
  {
   "cell_type": "code",
   "execution_count": 6,
   "metadata": {},
   "outputs": [
    {
     "data": {
      "text/plain": [
       "[<matplotlib.lines.Line2D at 0xc2c5f10>]"
      ]
     },
     "execution_count": 6,
     "metadata": {},
     "output_type": "execute_result"
    },
    {
     "data": {
      "image/png": "[encoded data removed]",
      "text/plain": [
       "<matplotlib.figure.Figure at 0xc276350>"
      ]
     },
     "metadata": {},
     "output_type": "display_data"
    }
   ],
   "source": [
    "V_test = []\n",
    "V_test1 = []\n",
    "sj_list = np.zeros(nb_neuron_ext)\n",
    "sj_dot_list = np.zeros(nb_neuron_ext)\n",
    "\n",
    "for t in range(int(time/h)):\n",
    "    ext_amp = np.random.poisson(ext_poisson_rate*nb_neuron_ext*tau_AMPA,1)\n",
    "    stimuli = np.random.poisson((ext_poisson_rate*nb_neuron_ext + 50)*tau_AMPA,1)\n",
    "    rec_amp_A = 0.\n",
    "    rec_amp_B = 0.\n",
    "    rec_amp_E = 0.\n",
    "    for n in NeuronE.instances:\n",
    "        n.update_AMPA(h)\n",
    "        rec_amp_E += n.s_AMPA\n",
    "    for n in NeuronA.instances:\n",
    "        n.update_AMPA(h)\n",
    "        rec_amp_A += n.s_AMPA\n",
    "    for n in NeuronB.instances:\n",
    "        n.update_AMPA(h)\n",
    "        rec_amp_B += n.s_AMPA\n",
    "        \n",
    "    for n in NeuronE.instances:\n",
    "        n.update_V(h, ext_amp, rec_amp_A, rec_amp_B, rec_amp_E, t*h/time)\n",
    "    for n in NeuronA.instances + NeuronB.instances:\n",
    "        n.update_V(h, stimuli, rec_amp_A, rec_amp_B, rec_amp_E, t*h/time)\n",
    "    #V_test.append(Neuron.instances[0].V*100)\n",
    "    V_test.append(rec_amp_E)\n",
    "    V_test1.append(rec_amp_B)\n",
    "plt.plot(V_test)\n",
    "plt.plot(V_test1)"
   ]
  },
  {
   "cell_type": "code",
   "execution_count": 7,
   "metadata": {},
   "outputs": [
    {
     "data": {
      "text/plain": [
       "(array([0.00027317, 0.0017301 , 0.00537242, 0.01793843, 0.04689488,\n",
       "        0.09952642, 0.14842458, 0.18421038, 0.16454185, 0.12311045,\n",
       "        0.07248219, 0.03205242, 0.01038061, 0.00300491, 0.00063741]),\n",
       " array([-3.71378563, -2.61558477, -1.5173839 , -0.41918303,  0.67901784,\n",
       "         1.77721871,  2.87541957,  3.97362044,  5.07182131,  6.17002218,\n",
       "         7.26822305,  8.36642391,  9.46462478, 10.56282565, 11.66102652,\n",
       "        12.75922738]),\n",
       " <a list of 15 Patch objects>)"
      ]
     },
     "execution_count": 7,
     "metadata": {},
     "output_type": "execute_result"
    },
    {
     "data": {
      "image/png": "[encoded data removed]",
      "text/plain": [
       "<matplotlib.figure.Figure at 0xc267870>"
      ]
     },
     "metadata": {},
     "output_type": "display_data"
    }
   ],
   "source": [
    "plt.hist(np.random.poisson(4.8, 10000),15,density=True)\n",
    "plt.hist(np.random.normal(4.8,np.sqrt(4.8),10000), 15, density = True, alpha=0.5)"
   ]
  },
  {
   "cell_type": "code",
   "execution_count": null,
   "metadata": {},
   "outputs": [],
   "source": []
  }
 ],
 "metadata": {
  "kernelspec": {
   "display_name": "Python 3",
   "language": "python",
   "name": "python3"
  },
  "language_info": {
   "codemirror_mode": {
    "name": "ipython",
    "version": 3
   },
   "file_extension": ".py",
   "mimetype": "text/x-python",
   "name": "python",
   "nbconvert_exporter": "python",
   "pygments_lexer": "ipython3",
   "version": "3.6.4"
  }
 },
 "nbformat": 4,
 "nbformat_minor": 2
}
